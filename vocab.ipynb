{
  "nbformat": 4,
  "nbformat_minor": 0,
  "metadata": {
    "colab": {
      "provenance": []
    },
    "kernelspec": {
      "name": "python3",
      "display_name": "Python 3"
    },
    "language_info": {
      "name": "python"
    }
  },
  "cells": [
    {
      "cell_type": "code",
      "source": [
        "from fpdf import FPDF\n",
        "\n",
        "tough_vocab = {\n",
        "    \"abrogate\": \"to abolish or annul by authority\",\n",
        "    \"acumen\": \"keen insight or shrewdness\",\n",
        "    \"adumbrate\": \"to foreshadow vaguely or intimate\",\n",
        "    \"alacrity\": \"cheerful readiness or eagerness\",\n",
        "    \"anathema\": \"a strong curse or denunciation\",\n",
        "    \"antediluvian\": \"ridiculously old-fashioned\",\n",
        "    \"apocryphal\": \"of doubtful authenticity\",\n",
        "    \"ascetic\": \"practicing strict self-discipline\",\n",
        "    \"assiduous\": \"showing great care and perseverance\",\n",
        "    \"beguile\": \"to charm or enchant, sometimes deceptively\",\n",
        "    \"bellicose\": \"demonstrating aggression or willingness to fight\",\n",
        "    \"blandishment\": \"a flattering or pleasing statement intended to persuade\",\n",
        "    \"bombastic\": \"high-sounding with little meaning; inflated\",\n",
        "    \"cabal\": \"a secret political clique or faction\",\n",
        "    \"calumny\": \"a false and malicious statement to damage someone's reputation\",\n",
        "    \"capitulate\": \"to surrender or yield\",\n",
        "    \"chicanery\": \"use of trickery to achieve a political, financial, or legal purpose\",\n",
        "    \"cogent\": \"clear, logical, and convincing\",\n",
        "    \"conflagration\": \"a large destructive fire\",\n",
        "    \"contumacious\": \"stubbornly disobedient to authority\",\n",
        "    \"corpulent\": \"excessively fat\",\n",
        "    \"defenestrate\": \"to throw someone or something out of a window\",\n",
        "    \"deleterious\": \"harmful or damaging\",\n",
        "    \"demagogue\": \"a political leader who seeks support by appealing to desires and prejudices\",\n",
        "    \"diaphanous\": \"light, delicate, and translucent\",\n",
        "    \"dirge\": \"a lament for the dead\",\n",
        "    \"disparate\": \"essentially different in kind; not allowing comparison\",\n",
        "    \"ebullient\": \"cheerful and full of energy\",\n",
        "    \"effulgent\": \"shining brightly; radiant\",\n",
        "    \"egregious\": \"outstandingly bad or shocking\",\n",
        "    \"enervate\": \"to weaken or drain of energy\",\n",
        "    \"ephemeral\": \"lasting a very short time\",\n",
        "    \"equanimity\": \"mental calmness, composure\",\n",
        "    \"esoteric\": \"intended for or likely to be understood by only a small number of people\",\n",
        "    \"excoriate\": \"to criticize severely\",\n",
        "    \"exigent\": \"pressing or demanding\",\n",
        "    \"execrable\": \"extremely bad or unpleasant\",\n",
        "    \"fastidious\": \"very attentive to detail\",\n",
        "    \"fatuous\": \"silly and pointless\",\n",
        "    \"feckless\": \"lacking initiative or strength of character\",\n",
        "    \"fractious\": \"irritable and quarrelsome\",\n",
        "    \"grandiloquent\": \"pompous or extravagant in language\",\n",
        "    \"gregarious\": \"sociable; fond of company\",\n",
        "    \"harangue\": \"a lengthy and aggressive speech\",\n",
        "    \"iconoclast\": \"a person who attacks cherished beliefs\",\n",
        "    \"ignominious\": \"deserving or causing public disgrace\",\n",
        "    \"impecunious\": \"having little or no money\",\n",
        "    \"impetuous\": \"acting quickly without thought\",\n",
        "    \"implacable\": \"unable to be calmed down or appeased\",\n",
        "    \"inchoate\": \"just begun and not fully formed\",\n",
        "    \"inimical\": \"tending to obstruct or harm\",\n",
        "    \"insouciant\": \"casually indifferent\",\n",
        "    \"inveterate\": \"firmly established and long-standing\",\n",
        "    \"jejune\": \"naive, simplistic, and superficial\",\n",
        "    \"lachrymose\": \"tearful or given to weeping\",\n",
        "    \"limpid\": \"completely clear and transparent\",\n",
        "    \"lubricious\": \"offensively displaying sexual desire\",\n",
        "    \"mendacious\": \"not telling the truth; lying\",\n",
        "    \"meretricious\": \"apparently attractive but having no real value\",\n",
        "    \"milieu\": \"a person's social environment\",\n",
        "    \"misanthrope\": \"a person who dislikes humankind\",\n",
        "    \"nefarious\": \"wicked or criminal\",\n",
        "    \"nugatory\": \"of no value or importance\",\n",
        "    \"obdurate\": \"stubbornly refusing to change\",\n",
        "    \"obfuscate\": \"to render obscure or unclear\",\n",
        "    \"obsequious\": \"excessively obedient or attentive\",\n",
        "    \"officious\": \"assertive of authority in an annoyingly domineering way\",\n",
        "    \"opprobrium\": \"harsh criticism or censure\",\n",
        "    \"ostensible\": \"stated or appearing to be true, but not necessarily so\",\n",
        "    \"palliate\": \"to make less severe without removing the cause\",\n",
        "    \"parsimony\": \"extreme unwillingness to spend money\",\n",
        "    \"pellucid\": \"translucently clear\",\n",
        "    \"penurious\": \"extremely poor; poverty-stricken\",\n",
        "    \"perfidious\": \"deceitful and untrustworthy\",\n",
        "    \"perspicacious\": \"having a ready insight into and understanding of things\",\n",
        "    \"phlegmatic\": \"calm and unemotional in temperament\",\n",
        "    \"precipitous\": \"dangerously high or steep; done suddenly without thought\",\n",
        "    \"proclivity\": \"a natural tendency to behave in a certain way\",\n",
        "    \"promulgate\": \"to promote or make widely known\",\n",
        "    \"propinquity\": \"nearness in place or relationship\",\n",
        "    \"pugnacious\": \"eager or quick to argue or fight\",\n",
        "    \"pulchritudinous\": \"physically beautiful\",\n",
        "    \"quixotic\": \"exceedingly idealistic; unrealistic and impractical\",\n",
        "    \"recalcitrant\": \"resisting authority or control\",\n",
        "    \"recondite\": \"little known or obscure\",\n",
        "    \"reprobate\": \"a morally unprincipled person\",\n",
        "    \"sagacious\": \"wise or shrewd\",\n",
        "    \"sanguine\": \"optimistic or positive, especially in a bad situation\",\n",
        "    \"scurrilous\": \"grossly abusive or slanderous\",\n",
        "    \"spurious\": \"not genuine, authentic, or true\",\n",
        "    \"stentorian\": \"extremely loud\",\n",
        "    \"supercilious\": \"behaving as if superior to others\",\n",
        "    \"surreptitious\": \"kept secret, especially because it would not be approved of\",\n",
        "    \"sycophant\": \"a person who acts obsequiously toward someone important\",\n",
        "    \"temerity\": \"excessive confidence or boldness\",\n",
        "    \"torpid\": \"mentally or physically inactive\",\n",
        "    \"trenchant\": \"vigorous or incisive in expression or style\",\n",
        "    \"turpitude\": \"depravity or wickedness\",\n",
        "    \"ubiquitous\": \"present or found everywhere\",\n",
        "    \"unctuous\": \"excessively flattering\",\n",
        "    \"vicissitude\": \"a change of circumstances or fortune\",\n",
        "    \"vociferous\": \"loud and forceful\",\n",
        "    \"winsome\": \"attractive or appealing in a charming way\",\n",
        "    \"zephyr\": \"a soft gentle breeze\"\n",
        "}\n"
      ],
      "metadata": {
        "id": "egtCSMI6KSWw"
      },
      "execution_count": 5,
      "outputs": []
    },
    {
      "cell_type": "code",
      "source": [
        "# Create a PDF instance\n",
        "pdf = FPDF()\n",
        "pdf.add_page()\n",
        "pdf.set_font(\"Arial\", size=12)"
      ],
      "metadata": {
        "id": "8g6nTAowLI1d"
      },
      "execution_count": 6,
      "outputs": []
    },
    {
      "cell_type": "code",
      "source": [
        "# Add title\n",
        "pdf.set_font(\"Arial\", 'B', size=14)\n",
        "pdf.cell(200, 10, txt=\"100 Toughest English Vocabulary Words\", ln=True, align='C')\n",
        "pdf.ln(10)"
      ],
      "metadata": {
        "id": "uLwUM2foLLuE"
      },
      "execution_count": 7,
      "outputs": []
    },
    {
      "cell_type": "code",
      "source": [
        "# Set normal font for content\n",
        "pdf.set_font(\"Arial\", size=12)\n"
      ],
      "metadata": {
        "id": "CEh-Tt45LTo7"
      },
      "execution_count": 8,
      "outputs": []
    },
    {
      "cell_type": "code",
      "source": [
        "# Add dictionary items\n",
        "for word, definition in tough_vocab.items():\n",
        "    line = f\"{word}: {definition}\"\n",
        "    pdf.multi_cell(0, 10, line)\n",
        "\n",
        "  # \"Please write this sentence on the PDF.\n",
        "# If the sentence is too long for one line, move to the next line and keep writing."
      ],
      "metadata": {
        "id": "7VwEBLF6LX0C"
      },
      "execution_count": 9,
      "outputs": []
    },
    {
      "cell_type": "code",
      "source": [
        "# Save the PDF\n",
        "pdf.output(\"tough_vocab.pdf\")\n",
        "\n",
        "print(\"PDF created successfully!\")"
      ],
      "metadata": {
        "colab": {
          "base_uri": "https://localhost:8080/"
        },
        "id": "cjc4hnzmLa2W",
        "outputId": "68a754b2-3590-4a90-ffdf-746e4f2fa4f3"
      },
      "execution_count": 10,
      "outputs": [
        {
          "output_type": "stream",
          "name": "stdout",
          "text": [
            "PDF created successfully!\n"
          ]
        }
      ]
    }
  ]
}